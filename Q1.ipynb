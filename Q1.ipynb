{
 "cells": [
  {
   "cell_type": "code",
   "execution_count": 2,
   "id": "2dc775e1",
   "metadata": {},
   "outputs": [],
   "source": [
    "import inspect\n",
    "import math\n",
    "\n",
    "f1= lambda x: x**x + x - 4\n",
    "f1prime = lambda x:x**x*(math.log(x) + 1) + 1\n",
    "\n",
    "f2 = lambda x:3*x - math.cos(x) - 1\n",
    "f2prime = lambda x:3 + math.sin(x)\n",
    "\n",
    "f3= lambda x:x**2 - math.log(x) - 2\n",
    "f3prime = lambda x:2*x - 1/x\n",
    "\n",
    "f4 = lambda x:x**3 + x**2 + x + 7\n",
    "f4prime = lambda x:3*x**2 + 2*x + 1\n",
    "\n",
    "def newtonRaphson(x0,f,fprime):\n",
    "\n",
    "    h = f(x0) / fprime(x0)\n",
    "    new_x = x0 - h\n",
    "\n",
    "    print(\"\\n\\n*** NEWTON RAPHSON METHOD IMPLEMENTATION ***\")\n",
    "    print(\"Function: \",inspect.getsource(f),\"\\nDerivative: \",inspect.getsource(fprime),\"\\n\")\n",
    "    \n",
    "    print(\"Iteration \",1,\" x = \",\"%.9f\"% new_x)\n",
    "\n",
    "    for i in range(1,10):\n",
    "\n",
    "        h = f(new_x) / fprime(new_x)\n",
    "        new_x = new_x - h\n",
    "        \n",
    "        print(\"Iteration-\",i+1,\" x1 = \",\"%.9f\"% new_x)"
   ]
  },
  {
   "cell_type": "code",
   "execution_count": 3,
   "id": "089de41a",
   "metadata": {},
   "outputs": [],
   "source": [
    "x0 = 1"
   ]
  },
  {
   "cell_type": "code",
   "execution_count": 4,
   "id": "60bd659d",
   "metadata": {},
   "outputs": [
    {
     "name": "stdout",
     "output_type": "stream",
     "text": [
      "\n",
      "\n",
      "*** NEWTON RAPHSON METHOD IMPLEMENTATION ***\n",
      "Function:  f1= lambda x: x**x + x - 4\n",
      " \n",
      "Derivative:  f1prime = lambda x:x**x*(math.log(x) + 1) + 1\n",
      " \n",
      "\n",
      "Iteration  1  x =  2.000000000\n",
      "Iteration- 2  x1 =  1.742685472\n",
      "Iteration- 3  x1 =  1.669042107\n",
      "Iteration- 4  x1 =  1.664577862\n",
      "Iteration- 5  x1 =  1.664562965\n",
      "Iteration- 6  x1 =  1.664562965\n",
      "Iteration- 7  x1 =  1.664562965\n",
      "Iteration- 8  x1 =  1.664562965\n",
      "Iteration- 9  x1 =  1.664562965\n",
      "Iteration- 10  x1 =  1.664562965\n"
     ]
    }
   ],
   "source": [
    "newtonRaphson(x0,f1,f1prime)"
   ]
  },
  {
   "cell_type": "code",
   "execution_count": 5,
   "id": "59f13765",
   "metadata": {},
   "outputs": [
    {
     "name": "stdout",
     "output_type": "stream",
     "text": [
      "\n",
      "\n",
      "*** NEWTON RAPHSON METHOD IMPLEMENTATION ***\n",
      "Function:  f2 = lambda x:3*x - math.cos(x) - 1\n",
      " \n",
      "Derivative:  f2prime = lambda x:3 + math.sin(x)\n",
      " \n",
      "\n",
      "Iteration  1  x =  0.620015952\n",
      "Iteration- 2  x1 =  0.607120658\n",
      "Iteration- 3  x1 =  0.607101648\n",
      "Iteration- 4  x1 =  0.607101648\n",
      "Iteration- 5  x1 =  0.607101648\n",
      "Iteration- 6  x1 =  0.607101648\n",
      "Iteration- 7  x1 =  0.607101648\n",
      "Iteration- 8  x1 =  0.607101648\n",
      "Iteration- 9  x1 =  0.607101648\n",
      "Iteration- 10  x1 =  0.607101648\n"
     ]
    }
   ],
   "source": [
    "newtonRaphson(x0,f2,f2prime)"
   ]
  },
  {
   "cell_type": "code",
   "execution_count": 6,
   "id": "067dab72",
   "metadata": {},
   "outputs": [
    {
     "name": "stdout",
     "output_type": "stream",
     "text": [
      "\n",
      "\n",
      "*** NEWTON RAPHSON METHOD IMPLEMENTATION ***\n",
      "Function:  f3= lambda x:x**2 - math.log(x) - 2\n",
      " \n",
      "Derivative:  f3prime = lambda x:2*x - 1/x\n",
      " \n",
      "\n",
      "Iteration  1  x =  2.000000000\n",
      "Iteration- 2  x1 =  1.626613480\n",
      "Iteration- 3  x1 =  1.566210208\n",
      "Iteration- 4  x1 =  1.564463734\n",
      "Iteration- 5  x1 =  1.564462259\n",
      "Iteration- 6  x1 =  1.564462259\n",
      "Iteration- 7  x1 =  1.564462259\n",
      "Iteration- 8  x1 =  1.564462259\n",
      "Iteration- 9  x1 =  1.564462259\n",
      "Iteration- 10  x1 =  1.564462259\n"
     ]
    }
   ],
   "source": [
    "newtonRaphson(x0,f3,f3prime)"
   ]
  },
  {
   "cell_type": "code",
   "execution_count": 7,
   "id": "78cb0597",
   "metadata": {},
   "outputs": [
    {
     "name": "stdout",
     "output_type": "stream",
     "text": [
      "\n",
      "\n",
      "*** NEWTON RAPHSON METHOD IMPLEMENTATION ***\n",
      "Function:  f4 = lambda x:x**3 + x**2 + x + 7\n",
      " \n",
      "Derivative:  f4prime = lambda x:3*x**2 + 2*x + 1\n",
      " \n",
      "\n",
      "Iteration  1  x =  -0.666666667\n",
      "Iteration- 2  x1 =  -7.148148148\n",
      "Iteration- 3  x1 =  -4.903058584\n",
      "Iteration- 4  x1 =  -3.454204239\n",
      "Iteration- 5  x1 =  -2.593049858\n",
      "Iteration- 6  x1 =  -2.198659858\n",
      "Iteration- 7  x1 =  -2.109230947\n",
      "Iteration- 8  x1 =  -2.104882769\n",
      "Iteration- 9  x1 =  -2.104872786\n",
      "Iteration- 10  x1 =  -2.104872786\n"
     ]
    }
   ],
   "source": [
    "newtonRaphson(x0,f4,f4prime)"
   ]
  }
 ],
 "metadata": {
  "kernelspec": {
   "display_name": "Python 3",
   "language": "python",
   "name": "python3"
  },
  "language_info": {
   "codemirror_mode": {
    "name": "ipython",
    "version": 3
   },
   "file_extension": ".py",
   "mimetype": "text/x-python",
   "name": "python",
   "nbconvert_exporter": "python",
   "pygments_lexer": "ipython3",
   "version": "3.8.16"
  }
 },
 "nbformat": 4,
 "nbformat_minor": 5
}
